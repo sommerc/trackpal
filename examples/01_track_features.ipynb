{
 "cells": [
  {
   "cell_type": "code",
   "execution_count": 7,
   "metadata": {},
   "outputs": [],
   "source": [
    "import pandas as pd\n",
    "import trackpal as tp"
   ]
  },
  {
   "cell_type": "markdown",
   "metadata": {},
   "source": [
    "# Simple track features\n",
    "## 1. Create some simulated tracks\n",
    "1. Simulate tracks\n",
    " * brownian motion (pure random walk)\n",
    " * linear motion with some randomness\n"
   ]
  },
  {
   "cell_type": "code",
   "execution_count": 8,
   "metadata": {},
   "outputs": [
    {
     "data": {
      "text/html": [
       "<div>\n",
       "<style scoped>\n",
       "    .dataframe tbody tr th:only-of-type {\n",
       "        vertical-align: middle;\n",
       "    }\n",
       "\n",
       "    .dataframe tbody tr th {\n",
       "        vertical-align: top;\n",
       "    }\n",
       "\n",
       "    .dataframe thead th {\n",
       "        text-align: right;\n",
       "    }\n",
       "</style>\n",
       "<table border=\"1\" class=\"dataframe\">\n",
       "  <thead>\n",
       "    <tr style=\"text-align: right;\">\n",
       "      <th></th>\n",
       "      <th>TrackID</th>\n",
       "      <th>FRAME</th>\n",
       "      <th>Position X</th>\n",
       "      <th>Position Y</th>\n",
       "    </tr>\n",
       "  </thead>\n",
       "  <tbody>\n",
       "    <tr>\n",
       "      <th>0</th>\n",
       "      <td>0</td>\n",
       "      <td>0</td>\n",
       "      <td>118.618838</td>\n",
       "      <td>18.883572</td>\n",
       "    </tr>\n",
       "    <tr>\n",
       "      <th>1</th>\n",
       "      <td>0</td>\n",
       "      <td>1</td>\n",
       "      <td>117.578334</td>\n",
       "      <td>17.314935</td>\n",
       "    </tr>\n",
       "    <tr>\n",
       "      <th>2</th>\n",
       "      <td>0</td>\n",
       "      <td>2</td>\n",
       "      <td>113.605302</td>\n",
       "      <td>17.082704</td>\n",
       "    </tr>\n",
       "    <tr>\n",
       "      <th>3</th>\n",
       "      <td>0</td>\n",
       "      <td>3</td>\n",
       "      <td>113.397081</td>\n",
       "      <td>16.931158</td>\n",
       "    </tr>\n",
       "    <tr>\n",
       "      <th>4</th>\n",
       "      <td>0</td>\n",
       "      <td>4</td>\n",
       "      <td>113.978639</td>\n",
       "      <td>17.842011</td>\n",
       "    </tr>\n",
       "    <tr>\n",
       "      <th>...</th>\n",
       "      <td>...</td>\n",
       "      <td>...</td>\n",
       "      <td>...</td>\n",
       "      <td>...</td>\n",
       "    </tr>\n",
       "    <tr>\n",
       "      <th>425</th>\n",
       "      <td>9</td>\n",
       "      <td>38</td>\n",
       "      <td>151.126927</td>\n",
       "      <td>-15.543743</td>\n",
       "    </tr>\n",
       "    <tr>\n",
       "      <th>426</th>\n",
       "      <td>9</td>\n",
       "      <td>39</td>\n",
       "      <td>152.319892</td>\n",
       "      <td>-14.090035</td>\n",
       "    </tr>\n",
       "    <tr>\n",
       "      <th>427</th>\n",
       "      <td>9</td>\n",
       "      <td>40</td>\n",
       "      <td>151.992647</td>\n",
       "      <td>-17.337754</td>\n",
       "    </tr>\n",
       "    <tr>\n",
       "      <th>428</th>\n",
       "      <td>9</td>\n",
       "      <td>41</td>\n",
       "      <td>152.774128</td>\n",
       "      <td>-17.647589</td>\n",
       "    </tr>\n",
       "    <tr>\n",
       "      <th>429</th>\n",
       "      <td>9</td>\n",
       "      <td>42</td>\n",
       "      <td>151.244535</td>\n",
       "      <td>-17.972721</td>\n",
       "    </tr>\n",
       "  </tbody>\n",
       "</table>\n",
       "<p>430 rows × 4 columns</p>\n",
       "</div>"
      ],
      "text/plain": [
       "     TrackID  FRAME  Position X  Position Y\n",
       "0          0      0  118.618838   18.883572\n",
       "1          0      1  117.578334   17.314935\n",
       "2          0      2  113.605302   17.082704\n",
       "3          0      3  113.397081   16.931158\n",
       "4          0      4  113.978639   17.842011\n",
       "..       ...    ...         ...         ...\n",
       "425        9     38  151.126927  -15.543743\n",
       "426        9     39  152.319892  -14.090035\n",
       "427        9     40  151.992647  -17.337754\n",
       "428        9     41  152.774128  -17.647589\n",
       "429        9     42  151.244535  -17.972721\n",
       "\n",
       "[430 rows x 4 columns]"
      ]
     },
     "execution_count": 8,
     "metadata": {},
     "output_type": "execute_result"
    }
   ],
   "source": [
    "trj_brownian = tp.simulate.brownian(n_tracks=10)\n",
    "trj_linear   = tp.simulate.brownian_linear(n_tracks=10)\n",
    "\n",
    "trj_brownian"
   ]
  },
  {
   "cell_type": "markdown",
   "metadata": {},
   "source": [
    "## 2. Add information to tables and concatenate tracks\n",
    "1. Define column identifiers\n",
    "2. Give tracks a tag `\"label\"` for later use\n",
    "3. Merge the two track tables into one"
   ]
  },
  {
   "cell_type": "code",
   "execution_count": 9,
   "metadata": {},
   "outputs": [
    {
     "data": {
      "text/html": [
       "<div>\n",
       "<style scoped>\n",
       "    .dataframe tbody tr th:only-of-type {\n",
       "        vertical-align: middle;\n",
       "    }\n",
       "\n",
       "    .dataframe tbody tr th {\n",
       "        vertical-align: top;\n",
       "    }\n",
       "\n",
       "    .dataframe thead th {\n",
       "        text-align: right;\n",
       "    }\n",
       "</style>\n",
       "<table border=\"1\" class=\"dataframe\">\n",
       "  <thead>\n",
       "    <tr style=\"text-align: right;\">\n",
       "      <th></th>\n",
       "      <th>TrackID</th>\n",
       "      <th>FRAME</th>\n",
       "      <th>Position X</th>\n",
       "      <th>Position Y</th>\n",
       "      <th>label</th>\n",
       "    </tr>\n",
       "  </thead>\n",
       "  <tbody>\n",
       "    <tr>\n",
       "      <th>0</th>\n",
       "      <td>0</td>\n",
       "      <td>0</td>\n",
       "      <td>104.667129</td>\n",
       "      <td>98.089962</td>\n",
       "      <td>1</td>\n",
       "    </tr>\n",
       "    <tr>\n",
       "      <th>1</th>\n",
       "      <td>0</td>\n",
       "      <td>1</td>\n",
       "      <td>106.951600</td>\n",
       "      <td>99.050245</td>\n",
       "      <td>1</td>\n",
       "    </tr>\n",
       "    <tr>\n",
       "      <th>2</th>\n",
       "      <td>0</td>\n",
       "      <td>2</td>\n",
       "      <td>108.374573</td>\n",
       "      <td>95.834643</td>\n",
       "      <td>1</td>\n",
       "    </tr>\n",
       "    <tr>\n",
       "      <th>3</th>\n",
       "      <td>0</td>\n",
       "      <td>3</td>\n",
       "      <td>111.247945</td>\n",
       "      <td>95.633633</td>\n",
       "      <td>1</td>\n",
       "    </tr>\n",
       "    <tr>\n",
       "      <th>4</th>\n",
       "      <td>0</td>\n",
       "      <td>4</td>\n",
       "      <td>111.903122</td>\n",
       "      <td>96.374613</td>\n",
       "      <td>1</td>\n",
       "    </tr>\n",
       "    <tr>\n",
       "      <th>...</th>\n",
       "      <td>...</td>\n",
       "      <td>...</td>\n",
       "      <td>...</td>\n",
       "      <td>...</td>\n",
       "      <td>...</td>\n",
       "    </tr>\n",
       "    <tr>\n",
       "      <th>855</th>\n",
       "      <td>19</td>\n",
       "      <td>38</td>\n",
       "      <td>151.126927</td>\n",
       "      <td>-15.543743</td>\n",
       "      <td>0</td>\n",
       "    </tr>\n",
       "    <tr>\n",
       "      <th>856</th>\n",
       "      <td>19</td>\n",
       "      <td>39</td>\n",
       "      <td>152.319892</td>\n",
       "      <td>-14.090035</td>\n",
       "      <td>0</td>\n",
       "    </tr>\n",
       "    <tr>\n",
       "      <th>857</th>\n",
       "      <td>19</td>\n",
       "      <td>40</td>\n",
       "      <td>151.992647</td>\n",
       "      <td>-17.337754</td>\n",
       "      <td>0</td>\n",
       "    </tr>\n",
       "    <tr>\n",
       "      <th>858</th>\n",
       "      <td>19</td>\n",
       "      <td>41</td>\n",
       "      <td>152.774128</td>\n",
       "      <td>-17.647589</td>\n",
       "      <td>0</td>\n",
       "    </tr>\n",
       "    <tr>\n",
       "      <th>859</th>\n",
       "      <td>19</td>\n",
       "      <td>42</td>\n",
       "      <td>151.244535</td>\n",
       "      <td>-17.972721</td>\n",
       "      <td>0</td>\n",
       "    </tr>\n",
       "  </tbody>\n",
       "</table>\n",
       "<p>860 rows × 5 columns</p>\n",
       "</div>"
      ],
      "text/plain": [
       "     TrackID  FRAME  Position X  Position Y  label\n",
       "0          0      0  104.667129   98.089962      1\n",
       "1          0      1  106.951600   99.050245      1\n",
       "2          0      2  108.374573   95.834643      1\n",
       "3          0      3  111.247945   95.633633      1\n",
       "4          0      4  111.903122   96.374613      1\n",
       "..       ...    ...         ...         ...    ...\n",
       "855       19     38  151.126927  -15.543743      0\n",
       "856       19     39  152.319892  -14.090035      0\n",
       "857       19     40  151.992647  -17.337754      0\n",
       "858       19     41  152.774128  -17.647589      0\n",
       "859       19     42  151.244535  -17.972721      0\n",
       "\n",
       "[860 rows x 5 columns]"
      ]
     },
     "execution_count": 9,
     "metadata": {},
     "output_type": "execute_result"
    }
   ],
   "source": [
    "trackid = \"TrackID\"\n",
    "frameid = \"FRAME\"\n",
    "coords_xy = [\"Position X\", \"Position Y\"]\n",
    "\n",
    "trj_brownian[\"label\"] = 0\n",
    "trj_linear[\"label\"]   = 1\n",
    "\n",
    "# concatenate (note: the trackids need to be relabeled) \n",
    "trj = tp.concat_relabel([trj_linear, trj_brownian], trackid=trackid)\n",
    "\n",
    "trj"
   ]
  },
  {
   "cell_type": "markdown",
   "metadata": {},
   "source": [
    "## 3. Plot tracks"
   ]
  },
  {
   "cell_type": "code",
   "execution_count": 10,
   "metadata": {},
   "outputs": [
    {
     "data": {
      "image/png": "[encoded data removed]",
      "text/plain": [
       "<Figure size 432x288 with 1 Axes>"
      ]
     },
     "metadata": {
      "needs_background": "light"
     },
     "output_type": "display_data"
    }
   ],
   "source": [
    "trj.groupby(trackid).apply(tp.visu.plot_trj, coords=coords_xy, line_fmt=\".-\");"
   ]
  },
  {
   "cell_type": "markdown",
   "metadata": {},
   "source": [
    "## 3. Compute simple track features\n",
    " * Confinement ratio (ratio of start/end net distance vs. total track distance)\n",
    " * Statistics of the instantaneous speed"
   ]
  },
  {
   "cell_type": "code",
   "execution_count": 11,
   "metadata": {},
   "outputs": [],
   "source": [
    "# prepare feature factory\n",
    "feature_factory = tp.features.Features(frame=frameid, coords=coords_xy)\n",
    "\n",
    "# compute two features\n",
    "conf_ratio  = feature_factory.get(\"confinement_ratio\")\n",
    "speed_stats = feature_factory.get(\"speed_stats\")\n",
    "\n",
    "conf_ratio_res  = trj.groupby(trackid).apply(conf_ratio.compute)\n",
    "speed_stats_res = trj.groupby(trackid).apply(speed_stats.compute)\n",
    "\n",
    "# retrieve labels assignment\n",
    "y = trj.groupby(trackid)[\"label\"].first()\n",
    "\n",
    "# merge into single DataFrame\n",
    "features = pd.concat([conf_ratio_res, speed_stats_res, y], axis=1)"
   ]
  },
  {
   "cell_type": "markdown",
   "metadata": {},
   "source": [
    "## Visualize two features as scatter plot\n",
    "* Confinement ratio\n",
    "* speed average \n",
    "\n",
    "and color code each tracks motion type.\n",
    "\n",
    "The two motion types have similar average speed, but confinement ratio is disciminating them"
   ]
  },
  {
   "cell_type": "code",
   "execution_count": 12,
   "metadata": {},
   "outputs": [
    {
     "data": {
      "image/png": "[encoded data removed]",
      "text/plain": [
       "<Figure size 432x288 with 2 Axes>"
      ]
     },
     "metadata": {
      "needs_background": "light"
     },
     "output_type": "display_data"
    }
   ],
   "source": [
    "# plot with pandas\n",
    "features.plot.scatter(x=\"confinement_ratio\", y=\"speed_stats_mean\", c=\"label\", cmap=\"coolwarm\");"
   ]
  },
  {
   "cell_type": "code",
   "execution_count": null,
   "metadata": {},
   "outputs": [],
   "source": []
  }
 ],
 "metadata": {
  "kernelspec": {
   "display_name": "Python 3",
   "language": "python",
   "name": "python3"
  },
  "language_info": {
   "codemirror_mode": {
    "name": "ipython",
    "version": 3
   },
   "file_extension": ".py",
   "mimetype": "text/x-python",
   "name": "python",
   "nbconvert_exporter": "python",
   "pygments_lexer": "ipython3",
   "version": "3.6.4"
  }
 },
 "nbformat": 4,
 "nbformat_minor": 4
}
