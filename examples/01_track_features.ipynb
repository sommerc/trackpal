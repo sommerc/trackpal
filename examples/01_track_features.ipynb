{
 "cells": [
  {
   "cell_type": "code",
   "execution_count": null,
   "metadata": {},
   "outputs": [],
   "source": [
    "import pandas as pd\n",
    "import trackpal as tp"
   ]
  },
  {
   "cell_type": "markdown",
   "metadata": {},
   "source": [
    "# Simple track features\n",
    "## 1. Create some simulated tracks\n",
    "1. Simulate tracks\n",
    " * brownian motion (pure random walk)\n",
    " * linear motion with some randomness\n",
    "2. Give a tag `\"label\"` for later use\n",
    "3. Merge the two track tables"
   ]
  },
  {
   "cell_type": "code",
   "execution_count": null,
   "metadata": {},
   "outputs": [],
   "source": [
    "trj_brownian = tp.simulate.brownian(n_tracks=10)\n",
    "trj_linear   = tp.simulate.brownian_linear(n_tracks=10)\n",
    "\n",
    "trj_brownian[\"label\"] = 0\n",
    "trj_linear[\"label\"]   = 1\n",
    "\n",
    "# concatenate (note: the trackids need to be relabeled) \n",
    "trj = tp.concat_relabel([trj_linear, trj_brownian])"
   ]
  },
  {
   "cell_type": "markdown",
   "metadata": {},
   "source": [
    "## 2. Plot tracks"
   ]
  },
  {
   "cell_type": "code",
   "execution_count": null,
   "metadata": {},
   "outputs": [],
   "source": [
    "trj.groupby(trj.id.track).apply(tp.visu.plot_trj, coords=trj.id.xy, line_fmt=\".-\");"
   ]
  },
  {
   "cell_type": "markdown",
   "metadata": {},
   "source": [
    "## 3. Compute simple track features\n",
    " * Confinement ratio (ratio of start/end net distance vs. total track distance)\n",
    " * Statistics of the instantaneous speed"
   ]
  },
  {
   "cell_type": "code",
   "execution_count": null,
   "metadata": {},
   "outputs": [],
   "source": [
    "# prepare feature factory\n",
    "feature_factory = tp.features.Features(frame=trj.id.frame, coords=trj.id.xy)\n",
    "\n",
    "# compute two features\n",
    "conf_ratio  = feature_factory.get(\"confinement_ratio\")\n",
    "speed_stats = feature_factory.get(\"speed_stats\")\n",
    "\n",
    "conf_ratio_res  = trj.groupby(trj.id.track).apply(conf_ratio.compute)\n",
    "speed_stats_res = trj.groupby(trj.id.track).apply(speed_stats.compute)\n",
    "\n",
    "# retrieve labels assignment\n",
    "y = trj.groupby(trj.id.track)[\"label\"].first()\n",
    "\n",
    "# merge into single DataFrame\n",
    "features = pd.concat([conf_ratio_res, speed_stats_res, y], axis=1)"
   ]
  },
  {
   "cell_type": "markdown",
   "metadata": {},
   "source": [
    "## Visualize two features as scatter plot\n",
    "* Confinement ratio\n",
    "* speed average \n",
    "and color code each tracks motion type"
   ]
  },
  {
   "cell_type": "code",
   "execution_count": null,
   "metadata": {},
   "outputs": [],
   "source": [
    "# plot with pandas\n",
    "features.plot.scatter(x=\"confinement_ratio\", y=\"speed_stats_mean\", c=\"label\", cmap=\"coolwarm\");"
   ]
  }
 ],
 "metadata": {
  "kernelspec": {
   "display_name": "Python 3",
   "language": "python",
   "name": "python3"
  },
  "language_info": {
   "codemirror_mode": {
    "name": "ipython",
    "version": 3
   },
   "file_extension": ".py",
   "mimetype": "text/x-python",
   "name": "python",
   "nbconvert_exporter": "python",
   "pygments_lexer": "ipython3",
   "version": "3.6.4"
  }
 },
 "nbformat": 4,
 "nbformat_minor": 4
}
